{
  "nbformat": 4,
  "nbformat_minor": 0,
  "metadata": {
    "colab": {
      "name": "Brain Tumour.ipynb",
      "provenance": [],
      "collapsed_sections": [],
      "mount_file_id": "1yIXLF85nWhw5DKF8Kl2rH7dMjA2ykTyx",
      "authorship_tag": "ABX9TyPKK8Yn1Bn7AEdBhQbpRzQL"
    },
    "kernelspec": {
      "name": "python3",
      "display_name": "Python 3"
    }
  },
  "cells": [
    {
      "cell_type": "code",
      "metadata": {
        "id": "qfMemZ-QTJ79",
        "colab_type": "code",
        "colab": {}
      },
      "source": [
        "#import libraries\n",
        "import cv2\n",
        "import os\n",
        "import tensorflow as tf\n",
        "from keras.preprocessing.image import ImageDataGenerator"
      ],
      "execution_count": 0,
      "outputs": []
    },
    {
      "cell_type": "code",
      "metadata": {
        "id": "YhPvB3paTzoU",
        "colab_type": "code",
        "outputId": "dc16fb12-2171-4981-dd40-2f4a9c53ac8b",
        "colab": {
          "base_uri": "https://localhost:8080/",
          "height": 34
        }
      },
      "source": [
        "# path = '/content/drive/My Drive/Dataset'\n",
        "# print(os.listdir(path))\n",
        "tf.__version__"
      ],
      "execution_count": 0,
      "outputs": [
        {
          "output_type": "execute_result",
          "data": {
            "text/plain": [
              "'2.2.0'"
            ]
          },
          "metadata": {
            "tags": []
          },
          "execution_count": 73
        }
      ]
    },
    {
      "cell_type": "code",
      "metadata": {
        "id": "VLuiEddR8mEx",
        "colab_type": "code",
        "colab": {}
      },
      "source": [
        "#take dataset\n",
        "path=\"/content/drive/My Drive/Dataset\"\n",
        "training_ORG = os.path.join(path,\"train_ORG\")\n",
        "testing_ORG = os.path.join(path,\"test_ORG\")\n",
        "validity_ORG = os.path.join(path,\"valid_ORG\")"
      ],
      "execution_count": 0,
      "outputs": []
    },
    {
      "cell_type": "code",
      "metadata": {
        "id": "ICym98ICUAm9",
        "colab_type": "code",
        "outputId": "c5384d4b-7c0f-42ce-e278-65e1853d4b15",
        "colab": {
          "base_uri": "https://localhost:8080/",
          "height": 34
        }
      },
      "source": [
        "#training dataset\n",
        "train_datagen = ImageDataGenerator(rescale=1./255,\n",
        "                                   shear_range = 0.2,\n",
        "                                   zoom_range = 0.2,\n",
        "                                   horizontal_flip = True,\n",
        "                                   vertical_flip = True\n",
        "                                   )\n",
        "training_set = train_datagen.flow_from_directory(training_ORG,\n",
        "                                                 target_size = (64,64),\n",
        "                                                 batch_size = 32,\n",
        "                                                 class_mode = 'binary')"
      ],
      "execution_count": 0,
      "outputs": [
        {
          "output_type": "stream",
          "text": [
            "Found 206 images belonging to 2 classes.\n"
          ],
          "name": "stdout"
        }
      ]
    },
    {
      "cell_type": "code",
      "metadata": {
        "id": "jtsI7LvnUt34",
        "colab_type": "code",
        "outputId": "8196f640-69fd-421d-e92a-c74e1e7b4cbc",
        "colab": {
          "base_uri": "https://localhost:8080/",
          "height": 34
        }
      },
      "source": [
        "#testing dataset\n",
        "# categories = ['no_tumour','tumour']\n",
        "test_datagen = ImageDataGenerator(rescale=1./255,\n",
        "                                  shear_range = 0.2,\n",
        "                                   zoom_range = 0.2,\n",
        "                                   horizontal_flip = True,\n",
        "                                   vertical_flip = True)\n",
        "test_set = test_datagen.flow_from_directory(testing_ORG,\n",
        "                                                 target_size = (64,64),\n",
        "                                                 batch_size = 32,\n",
        "                                                 class_mode = 'binary')"
      ],
      "execution_count": 0,
      "outputs": [
        {
          "output_type": "stream",
          "text": [
            "Found 87 images belonging to 2 classes.\n"
          ],
          "name": "stdout"
        }
      ]
    },
    {
      "cell_type": "code",
      "metadata": {
        "id": "kgpntpUAYaaZ",
        "colab_type": "code",
        "colab": {}
      },
      "source": [
        "#Add Cnn libraries and functions\n",
        "# train_tumour = os.path.join(training,\"tumour\")\n",
        "# train_no_tumour = os.path.join(training,\"no_tumour\")\n",
        "# test_tumour = os.path.join(testing,\"tumour\")\n",
        "# test_no_tumour = os.path.join(testing,\"no_tumour\")\n",
        "# validity_tumour = os.path.join(validity,\"tumour\")\n",
        "# validity_no_tumour = os.path.join(validity,\"no_tumour\")\n",
        "cnn = tf.keras.models.Sequential()\n",
        "cnn.add(tf.keras.layers.Conv2D(filters = 32, kernel_size = 3, activation= 'relu'))\n",
        "cnn.add(tf.keras.layers.MaxPool2D(pool_size = 2, strides = 2))"
      ],
      "execution_count": 0,
      "outputs": []
    },
    {
      "cell_type": "code",
      "metadata": {
        "id": "k-0gpW_NYe3y",
        "colab_type": "code",
        "colab": {}
      },
      "source": [
        "# train_tumourpics = len(os.listdir(train_tumour))\n",
        "# train_no_tumourpics = len(os.listdir(train_no_tumour))\n",
        "# test_tumourpics = len(os.listdir(test_tumour))\n",
        "# test_no_tumourpics = len(os.listdir(test_no_tumour))\n",
        "cnn.add(tf.keras.layers.Flatten())"
      ],
      "execution_count": 0,
      "outputs": []
    },
    {
      "cell_type": "code",
      "metadata": {
        "id": "yYEiA68JUQc8",
        "colab_type": "code",
        "colab": {}
      },
      "source": [
        "# total_train = train_tumourpics + train_no_tumourpics\n",
        "# total_test = test_tumourpics + test_no_tumourpics\n",
        "cnn.add(tf.keras.layers.Dense(units = 128, activation='relu'))"
      ],
      "execution_count": 0,
      "outputs": []
    },
    {
      "cell_type": "code",
      "metadata": {
        "id": "eWv_XCPdUSyv",
        "colab_type": "code",
        "colab": {}
      },
      "source": [
        "# img_height = 150\n",
        "# img_width = 150\n",
        "cnn.add(tf.keras.layers.Dense(units = 1, activation='sigmoid'))"
      ],
      "execution_count": 0,
      "outputs": []
    },
    {
      "cell_type": "code",
      "metadata": {
        "id": "6ruET0ouUju8",
        "colab_type": "code",
        "colab": {}
      },
      "source": [
        "cnn.compile(optimizer = 'adam', loss = 'binary_crossentropy', metrics = ['accuracy'])"
      ],
      "execution_count": 0,
      "outputs": []
    },
    {
      "cell_type": "code",
      "metadata": {
        "id": "20MV9tl5WKNd",
        "colab_type": "code",
        "colab": {}
      },
      "source": [
        "#Fit the dataset and give accurate epochs\n",
        "cnn.fit(x = training_set,\n",
        "        validation_data = test_set,\n",
        "        epochs = 35)"
      ],
      "execution_count": 0,
      "outputs": []
    },
    {
      "cell_type": "markdown",
      "metadata": {
        "id": "XiQm0FbD74Pe",
        "colab_type": "text"
      },
      "source": [
        ""
      ]
    },
    {
      "cell_type": "code",
      "metadata": {
        "id": "KrA2RVOCWP63",
        "colab_type": "code",
        "outputId": "65d64219-6c8a-4a97-d8a1-8729a3a66145",
        "colab": {
          "base_uri": "https://localhost:8080/",
          "height": 34
        }
      },
      "source": [
        "#Take some unseen images for testing your output\n",
        "import numpy as np\n",
        "# from keras.preprocessing import image\n",
        "# IMGarr=os.listdir(\"/content/drive/My Drive/Dataset/valid\")\n",
        "#for i in range(len(IMGarr)):\n",
        "  #imgP=os.path.join(\"/content/drive/My Drive/Dataset/valid_ORG\",IMGarr[i])\n",
        "#test_image = image.load_img(imgP, target_size = (64,64))\n",
        "test_image = image.load_img('/content/drive/My Drive/Dataset/valid_ORG/nt1.jpg', target_size = (64,64))\n",
        "test_image = image.img_to_array(test_image)\n",
        "test_image = np.expand_dims(test_image , axis = 0)\n",
        "result = cnn.predict(test_image)\n",
        "test_set.class_indices\n",
        "if result[0][0] == 1:\n",
        "  prediction = 'tumour'\n",
        "else:\n",
        "  prediction = 'no_tumour'\n",
        "print(prediction)"
      ],
      "execution_count": 0,
      "outputs": [
        {
          "output_type": "stream",
          "text": [
            "no_tumour\n"
          ],
          "name": "stdout"
        }
      ]
    },
    {
      "cell_type": "code",
      "metadata": {
        "id": "3nLRwTLxIxpl",
        "colab_type": "code",
        "colab": {}
      },
      "source": [
        ""
      ],
      "execution_count": 0,
      "outputs": []
    }
  ]
}